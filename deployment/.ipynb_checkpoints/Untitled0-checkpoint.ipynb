{
 "metadata": {
  "name": "",
  "signature": "sha256:a2835424e3630270010c186b82fd061206394a9533b5f0a400efc3f8ea7be18c"
 },
 "nbformat": 3,
 "nbformat_minor": 0,
 "worksheets": []
}