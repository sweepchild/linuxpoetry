{
 "metadata": {
  "name": "",
  "signature": "sha256:26d5289dacc78d0a36f448ff96ad31b718596fe3ccb844417bd64acfa2684c3e"
 },
 "nbformat": 3,
 "nbformat_minor": 0,
 "worksheets": [
  {
   "cells": [
    {
     "cell_type": "code",
     "collapsed": false,
     "input": [
      "\"\"\"\n",
      "p maps partition sizes to weights.  Partition a quantity 'n' to produce the highest\n",
      "wight possible.\n",
      "\"\"\"\n",
      "cache = {0: (0, [])}\n",
      "p = {0:0, 1:1, 2:5, 3:7}\n",
      "\n",
      "def find_m(n):\n",
      "    def _cache(n, val):\n",
      "        if n not in cache:\n",
      "            cache[n] = val\n",
      "        return val\n",
      "\n",
      "    if n in cache:\n",
      "        return cache[n]\n",
      "\n",
      "    curr_max = (0, [])\n",
      "    print(\"%s %s\" % (n, cache))\n",
      "    for i in range(0, n):\n",
      "        prev_val, prev_keys = find_m(i)\n",
      "        key_sum = sum(prev_keys)\n",
      "        for j in range(0, len(p)):\n",
      "            if j + key_sum <= n:\n",
      "                max_val, max_keys = curr_max\n",
      "                if p[j] + prev_val > max_val:\n",
      "                    curr_max = (p[j] + prev_val, prev_keys + [j])\n",
      "    return _cache(n, curr_max)"
     ],
     "language": "python",
     "metadata": {},
     "outputs": [],
     "prompt_number": 219
    },
    {
     "cell_type": "code",
     "collapsed": false,
     "input": [
      "\n",
      "find_m(7)"
     ],
     "language": "python",
     "metadata": {},
     "outputs": [
      {
       "output_type": "stream",
       "stream": "stdout",
       "text": [
        "7 {0: (0, [])}\n",
        "1 {0: (0, [])}\n",
        "2 {0: (0, []), 1: (1, [1])}\n",
        "3 {0: (0, []), 1: (1, [1]), 2: (5, [2])}\n",
        "4 {0: (0, []), 1: (1, [1]), 2: (5, [2]), 3: (7, [3])}\n",
        "5 {0: (0, []), 1: (1, [1]), 2: (5, [2]), 3: (7, [3]), 4: (10, [2, 2])}\n",
        "6 {0: (0, []), 1: (1, [1]), 2: (5, [2]), 3: (7, [3]), 4: (10, [2, 2]), 5: (12, [2, 3])}\n"
       ]
      },
      {
       "metadata": {},
       "output_type": "pyout",
       "prompt_number": 220,
       "text": [
        "(17, [2, 2, 3])"
       ]
      }
     ],
     "prompt_number": 220
    },
    {
     "cell_type": "code",
     "collapsed": false,
     "input": [
      "cache"
     ],
     "language": "python",
     "metadata": {},
     "outputs": [
      {
       "metadata": {},
       "output_type": "pyout",
       "prompt_number": 218,
       "text": [
        "{0: (0, []),\n",
        " 1: (1, [1]),\n",
        " 2: (5, [2]),\n",
        " 3: (7, [3]),\n",
        " 4: (10, [2, 2]),\n",
        " 5: (12, [2, 3]),\n",
        " 6: (15, [2, 2, 2]),\n",
        " 7: (17, [2, 2, 3])}"
       ]
      }
     ],
     "prompt_number": 218
    },
    {
     "cell_type": "code",
     "collapsed": false,
     "input": [
      "def fib(n):\n",
      "    \n",
      "    "
     ],
     "language": "python",
     "metadata": {},
     "outputs": []
    }
   ],
   "metadata": {}
  }
 ]
}